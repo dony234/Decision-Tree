{
 "cells": [
  {
   "cell_type": "markdown",
   "metadata": {
    "colab_type": "text",
    "id": "VXYDo4Jxm2b-"
   },
   "source": [
    "# Tree Based Models\n",
    "---------\n",
    "Understand entropy and gini calculations\n",
    "\n",
    "\n",
    "From Google Drive:Google Drive\\01 DS ML DL NLP and AI With Python Lab Copy\\02 Lab Data\\Python\\tree_weather.xlsx\n",
    "\n",
    "From Github: [Refer excel worksheet](https://github.com/rritec/datahexa/raw/master/files/tree_weather.xlsx)\n",
    "\n",
    "1.\tWhat is decision tree?\n",
    "    - a.\tSequence of if-else questions about individual features\n",
    "    - b.\tDecision-Tree has a hierarchy of nodes.\n",
    "2.\tNode: question or prediction.\n",
    "3.\tBuilding Blocks of a Decision-Tree are three nodes\n",
    "    - a.\tRoot: no parent node, question giving rise to two children nodes.\n",
    "    - b.\tInternal node: one parent node, question giving rise to two children nodes.\n",
    "    - c.\tLeaf: one parent node, no children nodes ==>> ** prediction **\n",
    "    ![image.png](attachment:image.png)\n"
   ]
  },
  {
   "cell_type": "markdown",
   "metadata": {
    "colab_type": "text",
    "id": "p-cKp33om2cE"
   },
   "source": [
    "## 1. Decision Tree for Classification"
   ]
  },
  {
   "cell_type": "markdown",
   "metadata": {
    "colab_type": "text",
    "id": "eN2Swrf4m2cI"
   },
   "source": [
    "##### 1.1 Business Problem Statement: predict whether a tumor is *malignant(cancer)* or *benign(non Cancer)* based on two features the mean radius of the tumor (radius_mean) and its mean number of concave points (concave points_mean)"
   ]
  },
  {
   "cell_type": "markdown",
   "metadata": {
    "colab_type": "text",
    "id": "mqydzhZJm2cL"
   },
   "source": [
    "### Step 1: Import required Modules"
   ]
  },
  {
   "cell_type": "code",
   "execution_count": 1,
   "metadata": {
    "colab": {},
    "colab_type": "code",
    "id": "EM4nC8vmm2cO"
   },
   "outputs": [],
   "source": [
    "import os\n",
    "import pandas as pd\n",
    "from sklearn.model_selection import train_test_split\n",
    "from sklearn.tree import DecisionTreeClassifier\n",
    "from sklearn.metrics import accuracy_score,confusion_matrix"
   ]
  },
  {
   "cell_type": "code",
   "execution_count": 2,
   "metadata": {
    "colab": {},
    "colab_type": "code",
    "id": "najNAKW-m2ce"
   },
   "outputs": [],
   "source": [
    "DecisionTreeClassifier?"
   ]
  },
  {
   "cell_type": "markdown",
   "metadata": {
    "colab_type": "text",
    "id": "p9AjfLz4m2cp"
   },
   "source": [
    "### Step 2: Load data "
   ]
  },
  {
   "cell_type": "code",
   "execution_count": null,
   "metadata": {
    "colab": {},
    "colab_type": "code",
    "id": "wfRX4XoHm2cs",
    "outputId": "fbd0abb2-b43b-4d2e-e9e9-4a40d6b1871f"
   },
   "outputs": [],
   "source": [
    "#os.chdir(\"C:\\\\Users\\\\Hi\\\\Google Drive\\\\01 Data Science Lab Copy\\\\02 Lab Data\\\\Python\")\n",
    "df = pd.read_csv(\"Wisconsin_Breast_Cancer_Dataset.csv\")"
   ]
  },
  {
   "cell_type": "code",
   "execution_count": null,
   "metadata": {
    "colab": {},
    "colab_type": "code",
    "id": "mcbmpI0bm2dD"
   },
   "outputs": [],
   "source": [
    "X = df[[\"radius_mean\",\"concave points_mean\"]]\n",
    "y=df[\"diagnosis\"]"
   ]
  },
  {
   "cell_type": "code",
   "execution_count": 5,
   "metadata": {
    "colab": {},
    "colab_type": "code",
    "id": "FeaqyC-vm2dP",
    "outputId": "d85c80c5-605d-403a-cdea-dbf0afa92fb2"
   },
   "outputs": [
    {
     "data": {
      "text/html": [
       "<div>\n",
       "<style scoped>\n",
       "    .dataframe tbody tr th:only-of-type {\n",
       "        vertical-align: middle;\n",
       "    }\n",
       "\n",
       "    .dataframe tbody tr th {\n",
       "        vertical-align: top;\n",
       "    }\n",
       "\n",
       "    .dataframe thead th {\n",
       "        text-align: right;\n",
       "    }\n",
       "</style>\n",
       "<table border=\"1\" class=\"dataframe\">\n",
       "  <thead>\n",
       "    <tr style=\"text-align: right;\">\n",
       "      <th></th>\n",
       "      <th>radius_mean</th>\n",
       "      <th>concave points_mean</th>\n",
       "    </tr>\n",
       "  </thead>\n",
       "  <tbody>\n",
       "    <tr>\n",
       "      <th>15</th>\n",
       "      <td>14.540</td>\n",
       "      <td>0.07364</td>\n",
       "    </tr>\n",
       "    <tr>\n",
       "      <th>16</th>\n",
       "      <td>14.680</td>\n",
       "      <td>0.05259</td>\n",
       "    </tr>\n",
       "    <tr>\n",
       "      <th>17</th>\n",
       "      <td>16.130</td>\n",
       "      <td>0.10280</td>\n",
       "    </tr>\n",
       "    <tr>\n",
       "      <th>18</th>\n",
       "      <td>19.810</td>\n",
       "      <td>0.09498</td>\n",
       "    </tr>\n",
       "    <tr>\n",
       "      <th>19</th>\n",
       "      <td>13.540</td>\n",
       "      <td>0.04781</td>\n",
       "    </tr>\n",
       "    <tr>\n",
       "      <th>20</th>\n",
       "      <td>13.080</td>\n",
       "      <td>0.03110</td>\n",
       "    </tr>\n",
       "    <tr>\n",
       "      <th>21</th>\n",
       "      <td>9.504</td>\n",
       "      <td>0.02076</td>\n",
       "    </tr>\n",
       "    <tr>\n",
       "      <th>22</th>\n",
       "      <td>15.340</td>\n",
       "      <td>0.09756</td>\n",
       "    </tr>\n",
       "    <tr>\n",
       "      <th>23</th>\n",
       "      <td>21.160</td>\n",
       "      <td>0.08632</td>\n",
       "    </tr>\n",
       "    <tr>\n",
       "      <th>24</th>\n",
       "      <td>16.650</td>\n",
       "      <td>0.09170</td>\n",
       "    </tr>\n",
       "  </tbody>\n",
       "</table>\n",
       "</div>"
      ],
      "text/plain": [
       "    radius_mean  concave points_mean\n",
       "15       14.540              0.07364\n",
       "16       14.680              0.05259\n",
       "17       16.130              0.10280\n",
       "18       19.810              0.09498\n",
       "19       13.540              0.04781\n",
       "20       13.080              0.03110\n",
       "21        9.504              0.02076\n",
       "22       15.340              0.09756\n",
       "23       21.160              0.08632\n",
       "24       16.650              0.09170"
      ]
     },
     "execution_count": 5,
     "metadata": {},
     "output_type": "execute_result"
    }
   ],
   "source": [
    "X[15:25]"
   ]
  },
  {
   "cell_type": "code",
   "execution_count": 6,
   "metadata": {
    "colab": {},
    "colab_type": "code",
    "id": "5rCHqK4dm2de",
    "outputId": "88138b38-15d4-40fa-d39f-543d9b02822b"
   },
   "outputs": [
    {
     "data": {
      "text/plain": [
       "15    M\n",
       "16    M\n",
       "17    M\n",
       "18    M\n",
       "19    B\n",
       "20    B\n",
       "21    B\n",
       "22    M\n",
       "23    M\n",
       "24    M\n",
       "Name: diagnosis, dtype: object"
      ]
     },
     "execution_count": 6,
     "metadata": {},
     "output_type": "execute_result"
    }
   ],
   "source": [
    "y[15:25]"
   ]
  },
  {
   "cell_type": "code",
   "execution_count": 7,
   "metadata": {
    "colab": {},
    "colab_type": "code",
    "id": "gGKleLqGm2dt"
   },
   "outputs": [],
   "source": [
    "y = y.replace('M',1)\n",
    "y = y.replace('B',0)\n",
    "SEED = 1 # for reproducing"
   ]
  },
  {
   "cell_type": "markdown",
   "metadata": {
    "colab_type": "text",
    "id": "xeN5U4dVm2d4"
   },
   "source": [
    "### Step 3: Create training and test sets"
   ]
  },
  {
   "cell_type": "code",
   "execution_count": 8,
   "metadata": {
    "colab": {},
    "colab_type": "code",
    "id": "GU232mPvm2d7"
   },
   "outputs": [],
   "source": [
    "X_train, X_test, y_train, y_test = train_test_split(X, \n",
    "                                                    y,\n",
    "                                                    test_size = 0.2,\n",
    "                                                    random_state=SEED,\n",
    "                                                    stratify=y)"
   ]
  },
  {
   "cell_type": "code",
   "execution_count": 0,
   "metadata": {
    "colab": {},
    "colab_type": "code",
    "id": "LAQPGrm8m2eH",
    "outputId": "2c11cfc2-f00b-415c-9b8b-1502b6a99c91"
   },
   "outputs": [
    {
     "name": "stdout",
     "output_type": "stream",
     "text": [
      "(455, 2)\n",
      "(455,)\n",
      "(114, 2)\n",
      "(114,)\n"
     ]
    }
   ],
   "source": [
    "print(X_train.shape) # (455, 2)\n",
    "print(y_train.shape) # (455,)\n",
    "print(X_test.shape) # (114, 2)\n",
    "print(y_test.shape) # (114,)"
   ]
  },
  {
   "cell_type": "markdown",
   "metadata": {
    "colab_type": "text",
    "id": "yNQZy2f-m2eV"
   },
   "source": [
    "### Step 4: Create DecisionTreeClassifier Model with a maximum depth of 6"
   ]
  },
  {
   "cell_type": "code",
   "execution_count": 9,
   "metadata": {
    "colab": {},
    "colab_type": "code",
    "id": "bU7pSQIBm2eY"
   },
   "outputs": [],
   "source": [
    "dt = DecisionTreeClassifier(max_depth=6,\n",
    "                            random_state=SEED,\n",
    "                            criterion='gini')"
   ]
  },
  {
   "cell_type": "code",
   "execution_count": 10,
   "metadata": {
    "colab": {},
    "colab_type": "code",
    "id": "SGKA-eYCm2ek",
    "outputId": "2560c618-0a71-487a-c901-2eabf1180ed9"
   },
   "outputs": [
    {
     "data": {
      "text/plain": [
       "DecisionTreeClassifier(class_weight=None, criterion='gini', max_depth=6,\n",
       "            max_features=None, max_leaf_nodes=None,\n",
       "            min_impurity_decrease=0.0, min_impurity_split=None,\n",
       "            min_samples_leaf=1, min_samples_split=2,\n",
       "            min_weight_fraction_leaf=0.0, presort=False, random_state=1,\n",
       "            splitter='best')"
      ]
     },
     "execution_count": 10,
     "metadata": {},
     "output_type": "execute_result"
    }
   ],
   "source": [
    "# Fit dt to the training set\n",
    "dt.fit(X_train, y_train)"
   ]
  },
  {
   "cell_type": "markdown",
   "metadata": {
    "colab_type": "text",
    "id": "L5ny9HWtm2ez"
   },
   "source": [
    "### Step 5: Predict test set labels using model\n",
    "\n"
   ]
  },
  {
   "cell_type": "code",
   "execution_count": 11,
   "metadata": {
    "colab": {},
    "colab_type": "code",
    "id": "wQi_MMtBm2e3"
   },
   "outputs": [],
   "source": [
    "y_pred = dt.predict(X_test)"
   ]
  },
  {
   "cell_type": "markdown",
   "metadata": {
    "colab_type": "text",
    "id": "zkY31CTYm2fB"
   },
   "source": [
    "### Step 6: Test the Performance \n"
   ]
  },
  {
   "cell_type": "code",
   "execution_count": 12,
   "metadata": {
    "colab": {},
    "colab_type": "code",
    "id": "HmrESO3dm2fF"
   },
   "outputs": [],
   "source": [
    "# Compute test set accuracy  \n",
    "acc = accuracy_score(y_test, y_pred)"
   ]
  },
  {
   "cell_type": "code",
   "execution_count": 0,
   "metadata": {
    "colab": {},
    "colab_type": "code",
    "id": "syjV6YNdm2fW",
    "outputId": "610e7357-bebc-4172-e335-5c4e01277b7c"
   },
   "outputs": [
    {
     "name": "stdout",
     "output_type": "stream",
     "text": [
      "Test set accuracy: 0.89\n"
     ]
    }
   ],
   "source": [
    "print(\"Test set accuracy: {:.2f}\".format(acc))"
   ]
  },
  {
   "cell_type": "code",
   "execution_count": 0,
   "metadata": {
    "colab": {},
    "colab_type": "code",
    "id": "Oka24XJtm2fw",
    "outputId": "3b13a38f-1273-4e7d-b117-a608f7f65905"
   },
   "outputs": [
    {
     "name": "stdout",
     "output_type": "stream",
     "text": [
      "[[65  7]\n",
      " [ 6 36]]\n"
     ]
    }
   ],
   "source": [
    "print(confusion_matrix(y_test,y_pred))"
   ]
  },
  {
   "cell_type": "code",
   "execution_count": 13,
   "metadata": {
    "colab": {},
    "colab_type": "code",
    "id": "kjf2XEWem2gY",
    "outputId": "714a49d2-311c-45b7-e1fd-9dc37dce7649"
   },
   "outputs": [
    {
     "data": {
      "text/plain": [
       "0.8859649122807017"
      ]
     },
     "execution_count": 13,
     "metadata": {},
     "output_type": "execute_result"
    }
   ],
   "source": [
    "(65+36)/114"
   ]
  },
  {
   "cell_type": "markdown",
   "metadata": {
    "colab_type": "text",
    "id": "DwV9eAPrm2go"
   },
   "source": [
    "> #### Note: Not bad! Using only two features, your tree was able to achieve an accuracy of 89%   :)"
   ]
  },
  {
   "cell_type": "markdown",
   "metadata": {
    "colab_type": "text",
    "id": "QJ8N1Evvm2gu"
   },
   "source": [
    "# LogisticRegression Vs Decision Tree Classification"
   ]
  },
  {
   "cell_type": "code",
   "execution_count": 0,
   "metadata": {
    "colab": {},
    "colab_type": "code",
    "id": "a75eTPzGm2gy"
   },
   "outputs": [],
   "source": [
    "# Import LogisticRegression from sklearn.linear_model\n",
    "from sklearn.linear_model import  LogisticRegression"
   ]
  },
  {
   "cell_type": "code",
   "execution_count": 0,
   "metadata": {
    "colab": {},
    "colab_type": "code",
    "id": "YEzGinYvm2g_"
   },
   "outputs": [],
   "source": [
    "# Instatiate logreg\n",
    "logreg = LogisticRegression(random_state=1)"
   ]
  },
  {
   "cell_type": "code",
   "execution_count": 0,
   "metadata": {
    "colab": {},
    "colab_type": "code",
    "id": "sElLO16Om2hJ",
    "outputId": "dca03e27-32eb-4891-b8ed-a844bedd40f4"
   },
   "outputs": [
    {
     "data": {
      "text/plain": [
       "LogisticRegression(C=1.0, class_weight=None, dual=False, fit_intercept=True,\n",
       "          intercept_scaling=1, max_iter=100, multi_class='ovr', n_jobs=1,\n",
       "          penalty='l2', random_state=1, solver='liblinear', tol=0.0001,\n",
       "          verbose=0, warm_start=False)"
      ]
     },
     "execution_count": 22,
     "metadata": {
      "tags": []
     },
     "output_type": "execute_result"
    }
   ],
   "source": [
    "# Fit logreg to the training set\n",
    "logreg.fit(X_train, y_train)"
   ]
  },
  {
   "cell_type": "code",
   "execution_count": 0,
   "metadata": {
    "colab": {},
    "colab_type": "code",
    "id": "zUgOtZsrm2hW"
   },
   "outputs": [],
   "source": [
    "# predict\n",
    "y_pred1 = logreg.predict(X_test)"
   ]
  },
  {
   "cell_type": "code",
   "execution_count": 0,
   "metadata": {
    "colab": {},
    "colab_type": "code",
    "id": "aQ3WJMizm2hg",
    "outputId": "9d052969-cf77-4222-bca4-84a2bbc5a2c5"
   },
   "outputs": [
    {
     "data": {
      "text/plain": [
       "0.9122807017543859"
      ]
     },
     "execution_count": 25,
     "metadata": {
      "tags": []
     },
     "output_type": "execute_result"
    }
   ],
   "source": [
    "acc1 = accuracy_score(y_test, y_pred1)\n",
    "acc1"
   ]
  },
  {
   "cell_type": "markdown",
   "metadata": {
    "colab_type": "text",
    "id": "W-VFe5Cum2hv"
   },
   "source": [
    "**By observing accuracies, On this data set which alogorithm is good ?**\n",
    "\n",
    "<input type=\"radio\" disabled> DT Classifier\n",
    "<input type=\"radio\" disabled checked> Logistic Regression"
   ]
  },
  {
   "cell_type": "markdown",
   "metadata": {
    "colab_type": "text",
    "collapsed": true,
    "id": "qVCyBZ2Um2hy"
   },
   "source": [
    "> **Home Work :** Similarly apply SVC and KNN on this data set"
   ]
  },
  {
   "cell_type": "code",
   "execution_count": 0,
   "metadata": {
    "colab": {},
    "colab_type": "code",
    "id": "NXq05qLbm2h1"
   },
   "outputs": [],
   "source": []
  }
 ],
 "metadata": {
  "colab": {
   "name": "DS_07_of_02_Tree_based_models_with_two_features.ipynb",
   "provenance": [],
   "version": "0.3.2"
  },
  "kernelspec": {
   "display_name": "Python 3",
   "language": "python",
   "name": "python3"
  }
 },
 "nbformat": 4,
 "nbformat_minor": 1
}
